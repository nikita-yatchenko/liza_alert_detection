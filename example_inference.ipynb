{
 "cells": [
  {
   "cell_type": "code",
   "execution_count": 1,
   "id": "initial_id",
   "metadata": {
    "is_executing": true
   },
   "outputs": [],
   "source": [
    "import torch\n",
    "if torch.cuda.is_available():\n",
    "    torch.device('cuda')\n",
    "    device = 'cuda'\n",
    "else:\n",
    "    torch.device('cpu')\n",
    "    device = 'cpu'"
   ]
  },
  {
   "cell_type": "code",
   "execution_count": 2,
   "id": "55f46ebd1f9eabf8",
   "metadata": {
    "collapsed": false,
    "jupyter": {
     "outputs_hidden": false
    }
   },
   "outputs": [],
   "source": [
    "from ultralytics import YOLO\n",
    "import cv2\n",
    "import numpy as np\n",
    "import os\n",
    "\n",
    "# Загрузка модели YOLOv8\n",
    "model = YOLO('./model/v7_best.pt').to(device)"
   ]
  },
  {
   "cell_type": "code",
   "execution_count": 3,
   "id": "bfaf93cb-1f63-488b-8def-eafcaff7a110",
   "metadata": {},
   "outputs": [],
   "source": [
    "sTmp =r'test_images/1_002301_zoom.JPG' # 1_002301_zoom_result # 1_002301_zoom # 1_002301_zoom\n",
    "sTmpResult =r'c:\\Utilits\\StudyCV\\LizaAlert\\datasetWinter\\valid\\images\\1_002301_zoom_result.JPG'"
   ]
  },
  {
   "cell_type": "code",
   "execution_count": 12,
   "id": "2ca9d290-5700-433b-b0ba-110b8ccb0116",
   "metadata": {},
   "outputs": [
    {
     "name": "stdout",
     "output_type": "stream",
     "text": [
      "\n",
      "0: 448x640 1 body, 416.3ms\n",
      "Speed: 6.3ms preprocess, 416.3ms inference, 0.7ms postprocess per image at shape (1, 3, 448, 640)\n"
     ]
    }
   ],
   "source": [
    "#results = model([\"image1.jpg\", \"image2.jpg\"])  # return a list of Results objects\n",
    "results = model(img)  # return a list of Results objects\n",
    "\n",
    "# Process results list\n",
    "for result in results:\n",
    "    boxes = result.boxes  # Boxes object for bounding box outputs\n",
    "    masks = result.masks  # Masks object for segmentation masks outputs\n",
    "    keypoints = result.keypoints  # Keypoints object for pose outputs\n",
    "    probs = result.probs  # Probs object for classification outputs\n",
    "    obb = result.obb  # Oriented boxes object for OBB outputs\n",
    "    result.show()  # display to screen"
   ]
  },
  {
   "cell_type": "code",
   "execution_count": 52,
   "id": "79768013-3573-49a0-b4ed-55eced43c242",
   "metadata": {},
   "outputs": [
    {
     "data": {
      "text/plain": [
       "np.float32(0.52994794)"
      ]
     },
     "execution_count": 52,
     "metadata": {},
     "output_type": "execute_result"
    }
   ],
   "source": [
    "results[0].boxes.conf.numpy()[0]"
   ]
  },
  {
   "cell_type": "code",
   "execution_count": 29,
   "id": "61ba4810-7ba5-48a1-bbee-2aa2c8035779",
   "metadata": {},
   "outputs": [
    {
     "name": "stdout",
     "output_type": "stream",
     "text": [
      "tensor([6820.4453, 2427.4995,  128.6255,   83.8584])\n",
      "tensor([5390.8105,  919.9011,   98.0059,  109.2949])\n",
      "tensor([ 439.5468, 4942.5264,   97.3505,   69.9443])\n"
     ]
    }
   ],
   "source": [
    "for s in boxes.xywh:\n",
    "    print(s)"
   ]
  },
  {
   "cell_type": "code",
   "execution_count": 30,
   "id": "994be3b2-57ab-45ee-80b7-1a33f512896e",
   "metadata": {},
   "outputs": [
    {
     "data": {
      "text/plain": [
       "tensor([[6820.4453, 2427.4995,  128.6255,   83.8584],\n",
       "        [5390.8105,  919.9011,   98.0059,  109.2949],\n",
       "        [ 439.5468, 4942.5264,   97.3505,   69.9443]])"
      ]
     },
     "execution_count": 30,
     "metadata": {},
     "output_type": "execute_result"
    }
   ],
   "source": [
    "boxes.xywh"
   ]
  },
  {
   "cell_type": "code",
   "execution_count": 17,
   "id": "11e2df04-8d2d-4d4d-a32b-193d27871c49",
   "metadata": {},
   "outputs": [
    {
     "data": {
      "text/plain": [
       "tensor([0.5299])"
      ]
     },
     "execution_count": 17,
     "metadata": {},
     "output_type": "execute_result"
    }
   ],
   "source": [
    "boxes.conf"
   ]
  },
  {
   "cell_type": "code",
   "execution_count": 4,
   "id": "76304f0a-7b4f-4ec1-ae6e-6be83d3ff658",
   "metadata": {},
   "outputs": [],
   "source": [
    "from src.solution import predict\n",
    "\n",
    "import cv2 \n",
    "# r'test_images/1_002301_zoom.JPG' # 1_002301_zoom_result # 1_002301_zoom # 1_002301_zoom\n",
    "img = cv2.imread(r'test_images/1_002301_zoom.JPG')\n",
    "img1 = cv2.imread(r'test_images/1_000178.JPG')"
   ]
  },
  {
   "cell_type": "code",
   "execution_count": 5,
   "id": "bf2c02e1-c181-4aa4-8f45-4c1dbbf5a465",
   "metadata": {},
   "outputs": [
    {
     "name": "stdout",
     "output_type": "stream",
     "text": [
      "\n",
      "0: 640x640 1 body, 712.7ms\n",
      "1: 640x640 1 body, 712.7ms\n",
      "Speed: 4.1ms preprocess, 712.7ms inference, 0.5ms postprocess per image at shape (1, 3, 640, 640)\n"
     ]
    },
    {
     "data": {
      "text/plain": [
       "[[{'xc': np.float32(1170.0543),\n",
       "   'yc': np.float32(641.7157),\n",
       "   'w': np.float32(74.6416),\n",
       "   'h': np.float32(59.9809),\n",
       "   'label': np.float32(0.0),\n",
       "   'score': np.float32(0.5297)}],\n",
       " [{'xc': np.float32(3865.2175),\n",
       "   'yc': np.float32(1935.8256),\n",
       "   'w': np.float32(161.7407),\n",
       "   'h': np.float32(88.3024),\n",
       "   'label': np.float32(0.0),\n",
       "   'score': np.float32(0.7636)}]]"
      ]
     },
     "execution_count": 5,
     "metadata": {},
     "output_type": "execute_result"
    }
   ],
   "source": [
    "predict([img, img1])"
   ]
  },
  {
   "cell_type": "code",
   "execution_count": 6,
   "id": "45360aa4-eec9-48de-8d90-d4df16d22bd5",
   "metadata": {},
   "outputs": [
    {
     "data": {
      "text/plain": [
       "(1415, 2020, 3)"
      ]
     },
     "execution_count": 6,
     "metadata": {},
     "output_type": "execute_result"
    }
   ],
   "source": [
    "img.shape"
   ]
  },
  {
   "cell_type": "code",
   "execution_count": 7,
   "id": "c28343a8-860e-430e-bc9b-8f8e00f39977",
   "metadata": {},
   "outputs": [
    {
     "name": "stdout",
     "output_type": "stream",
     "text": [
      "\n",
      "0: 448x640 1 body, 366.3ms\n",
      "Speed: 1.9ms preprocess, 366.3ms inference, 0.4ms postprocess per image at shape (1, 3, 448, 640)\n"
     ]
    }
   ],
   "source": [
    "results = model(img)  # return a list of Results objects\n",
    "res = results[0].boxes\n",
    "\n",
    "# Process results list\n",
    "for i in range(len(res)):\n",
    "    boxes = res[i].xywh  # Boxes object for bounding box outputs"
   ]
  },
  {
   "cell_type": "code",
   "execution_count": 10,
   "id": "8cf4f9e9-f48e-4b07-bf35-f994c24f059c",
   "metadata": {},
   "outputs": [
    {
     "data": {
      "text/plain": [
       "ultralytics.engine.results.Boxes object with attributes:\n",
       "\n",
       "cls: tensor([0.])\n",
       "conf: tensor([0.5299])\n",
       "data: tensor([[1.1335e+03, 6.1216e+02, 1.2082e+03, 6.7218e+02, 5.2995e-01, 0.0000e+00]])\n",
       "id: None\n",
       "is_track: False\n",
       "orig_shape: (1415, 2020)\n",
       "shape: torch.Size([1, 6])\n",
       "xywh: tensor([[1170.8831,  642.1708,   74.6974,   60.0264]])\n",
       "xywhn: tensor([[0.5796, 0.4538, 0.0370, 0.0424]])\n",
       "xyxy: tensor([[1133.5344,  612.1576, 1208.2318,  672.1840]])\n",
       "xyxyn: tensor([[0.5612, 0.4326, 0.5981, 0.4750]])"
      ]
     },
     "execution_count": 10,
     "metadata": {},
     "output_type": "execute_result"
    }
   ],
   "source": [
    "boxes"
   ]
  },
  {
   "cell_type": "code",
   "execution_count": 80,
   "id": "7ea0ef74-da16-4c29-8941-e28f538e596c",
   "metadata": {},
   "outputs": [
    {
     "data": {
      "text/plain": [
       "ultralytics.engine.results.Boxes object with attributes:\n",
       "\n",
       "cls: tensor([0.])\n",
       "conf: tensor([0.5299])\n",
       "data: tensor([[1.1335e+03, 6.1216e+02, 1.2082e+03, 6.7218e+02, 5.2995e-01, 0.0000e+00]])\n",
       "id: None\n",
       "is_track: False\n",
       "orig_shape: (1415, 2020)\n",
       "shape: torch.Size([1, 6])\n",
       "xywh: tensor([[1170.8831,  642.1708,   74.6974,   60.0264]])\n",
       "xywhn: tensor([[0.5796, 0.4538, 0.0370, 0.0424]])\n",
       "xyxy: tensor([[1133.5344,  612.1576, 1208.2318,  672.1840]])\n",
       "xyxyn: tensor([[0.5612, 0.4326, 0.5981, 0.4750]])"
      ]
     },
     "execution_count": 80,
     "metadata": {},
     "output_type": "execute_result"
    }
   ],
   "source": [
    "results[0].boxes#.numpy()#[0]"
   ]
  },
  {
   "cell_type": "code",
   "execution_count": null,
   "id": "a37a2db6-375f-471b-9401-63e50274898e",
   "metadata": {},
   "outputs": [],
   "source": []
  }
 ],
 "metadata": {
  "kernelspec": {
   "display_name": "Python 3 (ipykernel)",
   "language": "python",
   "name": "python3"
  },
  "language_info": {
   "codemirror_mode": {
    "name": "ipython",
    "version": 3
   },
   "file_extension": ".py",
   "mimetype": "text/x-python",
   "name": "python",
   "nbconvert_exporter": "python",
   "pygments_lexer": "ipython3",
   "version": "3.12.5"
  }
 },
 "nbformat": 4,
 "nbformat_minor": 5
}
